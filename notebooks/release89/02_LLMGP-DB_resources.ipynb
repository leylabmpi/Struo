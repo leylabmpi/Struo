{
 "cells": [
  {
   "cell_type": "markdown",
   "metadata": {
    "toc": true
   },
   "source": [
    "<h1>Table of Contents<span class=\"tocSkip\"></span></h1>\n",
    "<div class=\"toc\"><ul class=\"toc-item\"><li><span><a href=\"#Goal\" data-toc-modified-id=\"Goal-1\"><span class=\"toc-item-num\">1&nbsp;&nbsp;</span>Goal</a></span></li><li><span><a href=\"#Var\" data-toc-modified-id=\"Var-2\"><span class=\"toc-item-num\">2&nbsp;&nbsp;</span>Var</a></span></li><li><span><a href=\"#Init\" data-toc-modified-id=\"Init-3\"><span class=\"toc-item-num\">3&nbsp;&nbsp;</span>Init</a></span></li><li><span><a href=\"#Load\" data-toc-modified-id=\"Load-4\"><span class=\"toc-item-num\">4&nbsp;&nbsp;</span>Load</a></span></li><li><span><a href=\"#Summary\" data-toc-modified-id=\"Summary-5\"><span class=\"toc-item-num\">5&nbsp;&nbsp;</span>Summary</a></span></li><li><span><a href=\"#sessionInfo\" data-toc-modified-id=\"sessionInfo-6\"><span class=\"toc-item-num\">6&nbsp;&nbsp;</span>sessionInfo</a></span></li></ul></div>"
   ]
  },
  {
   "cell_type": "markdown",
   "metadata": {},
   "source": [
    "# Goal\n",
    "\n",
    "* summarize the computational resources required for the `LLMGP-DB` Fall 2019 run\n",
    "  * GTDB release 89"
   ]
  },
  {
   "cell_type": "markdown",
   "metadata": {},
   "source": [
    "# Var"
   ]
  },
  {
   "cell_type": "code",
   "execution_count": 1,
   "metadata": {
    "ExecuteTime": {
     "end_time": "2019-11-08T16:01:01.661155Z",
     "start_time": "2019-11-08T16:01:00.461Z"
    }
   },
   "outputs": [],
   "source": [
    "work_dir = '/ebio/abt3_projects2/databases_no-backup/GTDB/release89/LLMGP-DB/benchmarks/'"
   ]
  },
  {
   "cell_type": "markdown",
   "metadata": {},
   "source": [
    "# Init"
   ]
  },
  {
   "cell_type": "code",
   "execution_count": 4,
   "metadata": {
    "ExecuteTime": {
     "end_time": "2019-11-08T16:01:59.073437Z",
     "start_time": "2019-11-08T16:01:04.890Z"
    }
   },
   "outputs": [],
   "source": [
    "library(dplyr)\n",
    "library(tidyr)\n",
    "library(ggplot2)"
   ]
  },
  {
   "cell_type": "markdown",
   "metadata": {},
   "source": [
    "# Load"
   ]
  },
  {
   "cell_type": "code",
   "execution_count": 3,
   "metadata": {
    "ExecuteTime": {
     "end_time": "2019-11-08T16:01:58.981576Z",
     "start_time": "2019-11-08T16:01:02.314Z"
    }
   },
   "outputs": [
    {
     "data": {
      "text/html": [
       "140166"
      ],
      "text/latex": [
       "140166"
      ],
      "text/markdown": [
       "140166"
      ],
      "text/plain": [
       "[1] 140166"
      ]
     },
     "metadata": {},
     "output_type": "display_data"
    }
   ],
   "source": [
    "# listing all benchmarking files\n",
    "files = list.files(work_dir, '*.txt', full.names = TRUE, recursive = TRUE)\n",
    "files %>% length"
   ]
  },
  {
   "cell_type": "code",
   "execution_count": 5,
   "metadata": {
    "ExecuteTime": {
     "end_time": "2019-11-12T07:43:30.818376Z",
     "start_time": "2019-11-08T16:01:11.154Z"
    }
   },
   "outputs": [
    {
     "data": {
      "text/html": [
       "<table>\n",
       "<thead><tr><th scope=col>s</th><th scope=col>h.m.s</th><th scope=col>max_rss</th><th scope=col>max_vms</th><th scope=col>max_uss</th><th scope=col>max_pss</th><th scope=col>io_in</th><th scope=col>io_out</th><th scope=col>mean_load</th></tr></thead>\n",
       "<tbody>\n",
       "\t<tr><td>5.4096 </td><td>0:00:05</td><td>15.04  </td><td>41.62  </td><td>7.21   </td><td>8.29   </td><td>3.32   </td><td>0      </td><td>0      </td></tr>\n",
       "\t<tr><td>6.3824 </td><td>0:00:06</td><td>15.37  </td><td>41.62  </td><td>7.61   </td><td>9.14   </td><td>5.54   </td><td>0.56   </td><td>0      </td></tr>\n",
       "\t<tr><td>2.4394 </td><td>0:00:02</td><td>14.34  </td><td>40.96  </td><td>9.41   </td><td>9.52   </td><td>1.01   </td><td>0      </td><td>0      </td></tr>\n",
       "\t<tr><td>8.7454 </td><td>0:00:08</td><td>15.47  </td><td>41.86  </td><td>10.74  </td><td>10.9   </td><td>6.53   </td><td>0      </td><td>0      </td></tr>\n",
       "\t<tr><td>6.8873 </td><td>0:00:06</td><td>15.68  </td><td>41.86  </td><td>7.98   </td><td>8.36   </td><td>7.39   </td><td>0.72   </td><td>0      </td></tr>\n",
       "\t<tr><td>5.8949 </td><td>0:00:05</td><td>14.99  </td><td>41.62  </td><td>10.07  </td><td>10.21  </td><td>4.04   </td><td>0.42   </td><td>0      </td></tr>\n",
       "</tbody>\n",
       "</table>\n"
      ],
      "text/latex": [
       "\\begin{tabular}{r|lllllllll}\n",
       " s & h.m.s & max\\_rss & max\\_vms & max\\_uss & max\\_pss & io\\_in & io\\_out & mean\\_load\\\\\n",
       "\\hline\n",
       "\t 5.4096  & 0:00:05 & 15.04   & 41.62   & 7.21    & 8.29    & 3.32    & 0       & 0      \\\\\n",
       "\t 6.3824  & 0:00:06 & 15.37   & 41.62   & 7.61    & 9.14    & 5.54    & 0.56    & 0      \\\\\n",
       "\t 2.4394  & 0:00:02 & 14.34   & 40.96   & 9.41    & 9.52    & 1.01    & 0       & 0      \\\\\n",
       "\t 8.7454  & 0:00:08 & 15.47   & 41.86   & 10.74   & 10.9    & 6.53    & 0       & 0      \\\\\n",
       "\t 6.8873  & 0:00:06 & 15.68   & 41.86   & 7.98    & 8.36    & 7.39    & 0.72    & 0      \\\\\n",
       "\t 5.8949  & 0:00:05 & 14.99   & 41.62   & 10.07   & 10.21   & 4.04    & 0.42    & 0      \\\\\n",
       "\\end{tabular}\n"
      ],
      "text/markdown": [
       "\n",
       "s | h.m.s | max_rss | max_vms | max_uss | max_pss | io_in | io_out | mean_load | \n",
       "|---|---|---|---|---|---|\n",
       "| 5.4096  | 0:00:05 | 15.04   | 41.62   | 7.21    | 8.29    | 3.32    | 0       | 0       | \n",
       "| 6.3824  | 0:00:06 | 15.37   | 41.62   | 7.61    | 9.14    | 5.54    | 0.56    | 0       | \n",
       "| 2.4394  | 0:00:02 | 14.34   | 40.96   | 9.41    | 9.52    | 1.01    | 0       | 0       | \n",
       "| 8.7454  | 0:00:08 | 15.47   | 41.86   | 10.74   | 10.9    | 6.53    | 0       | 0       | \n",
       "| 6.8873  | 0:00:06 | 15.68   | 41.86   | 7.98    | 8.36    | 7.39    | 0.72    | 0       | \n",
       "| 5.8949  | 0:00:05 | 14.99   | 41.62   | 10.07   | 10.21   | 4.04    | 0.42    | 0       | \n",
       "\n",
       "\n"
      ],
      "text/plain": [
       "  s      h.m.s   max_rss max_vms max_uss max_pss io_in io_out mean_load\n",
       "1 5.4096 0:00:05 15.04   41.62   7.21    8.29    3.32  0      0        \n",
       "2 6.3824 0:00:06 15.37   41.62   7.61    9.14    5.54  0.56   0        \n",
       "3 2.4394 0:00:02 14.34   40.96   9.41    9.52    1.01  0      0        \n",
       "4 8.7454 0:00:08 15.47   41.86   10.74   10.9    6.53  0      0        \n",
       "5 6.8873 0:00:06 15.68   41.86   7.98    8.36    7.39  0.72   0        \n",
       "6 5.8949 0:00:05 14.99   41.62   10.07   10.21   4.04  0.42   0        "
      ]
     },
     "metadata": {},
     "output_type": "display_data"
    }
   ],
   "source": [
    "# loading and formatting\n",
    "F1 = function(x){\n",
    "    x = as.character(x)\n",
    "    y = ifelse(x == '-', NA, x)\n",
    "    y = ifelse(y == 'NA', NA, y)\n",
    "    return(y)\n",
    "}\n",
    "\n",
    "df = lapply(as.list(files), function(x) read.delim(x, sep='\\t')) %>%\n",
    "    do.call(rbind, .) %>%\n",
    "    mutate_all(funs(F1))\n",
    "            \n",
    "df %>% head"
   ]
  },
  {
   "cell_type": "markdown",
   "metadata": {},
   "source": [
    "# Summary"
   ]
  },
  {
   "cell_type": "code",
   "execution_count": 6,
   "metadata": {
    "ExecuteTime": {
     "end_time": "2019-11-12T07:43:30.822391Z",
     "start_time": "2019-11-08T16:01:11.401Z"
    }
   },
   "outputs": [
    {
     "data": {
      "text/plain": [
       "      s                h.m.s             max_rss            max_vms         \n",
       " Length:140166      Length:140166      Length:140166      Length:140166     \n",
       " Class :character   Class :character   Class :character   Class :character  \n",
       " Mode  :character   Mode  :character   Mode  :character   Mode  :character  \n",
       "   max_uss            max_pss             io_in              io_out         \n",
       " Length:140166      Length:140166      Length:140166      Length:140166     \n",
       " Class :character   Class :character   Class :character   Class :character  \n",
       " Mode  :character   Mode  :character   Mode  :character   Mode  :character  \n",
       "  mean_load        \n",
       " Length:140166     \n",
       " Class :character  \n",
       " Mode  :character  "
      ]
     },
     "metadata": {},
     "output_type": "display_data"
    }
   ],
   "source": [
    "df %>% summary"
   ]
  },
  {
   "cell_type": "code",
   "execution_count": 13,
   "metadata": {
    "ExecuteTime": {
     "end_time": "2019-11-12T07:45:15.459825Z",
     "start_time": "2019-11-12T07:45:15.369Z"
    }
   },
   "outputs": [
    {
     "name": "stdout",
     "output_type": "stream",
     "text": [
      "CPU hours: 136839.7 \n",
      "CPU days: 5701.656 \n",
      "CPU years: 15.62098 \n"
     ]
    }
   ],
   "source": [
    "# CPU hours\n",
    "cpu_hours = df$s %>% as.character %>% as.numeric %>% sum(na.rm=TRUE)\n",
    "cpu_hours = cpu_hours / 360\n",
    "cat('CPU hours:', cpu_hours, '\\n')\n",
    "cat('CPU days:', cpu_hours / 24, '\\n')\n",
    "cat('CPU years:', cpu_hours / (24 * 365), '\\n')"
   ]
  },
  {
   "cell_type": "code",
   "execution_count": 8,
   "metadata": {
    "ExecuteTime": {
     "end_time": "2019-11-12T07:43:30.827232Z",
     "start_time": "2019-11-08T16:01:11.673Z"
    }
   },
   "outputs": [
    {
     "data": {
      "text/html": [
       "521147160.21"
      ],
      "text/latex": [
       "521147160.21"
      ],
      "text/markdown": [
       "521147160.21"
      ],
      "text/plain": [
       "[1] 521147160"
      ]
     },
     "metadata": {},
     "output_type": "display_data"
    }
   ],
   "source": [
    "# max memory\n",
    "max_mem = df$max_vms %>% as.character %>% as.numeric %>% sum(na.rm=TRUE)\n",
    "max_mem"
   ]
  },
  {
   "cell_type": "code",
   "execution_count": 9,
   "metadata": {
    "ExecuteTime": {
     "end_time": "2019-11-12T07:43:30.830148Z",
     "start_time": "2019-11-08T16:01:12.177Z"
    }
   },
   "outputs": [
    {
     "name": "stdout",
     "output_type": "stream",
     "text": [
      "[1] 2661050\n",
      "[1] 113474108\n"
     ]
    }
   ],
   "source": [
    "# IO\n",
    "io_in = df$io_in %>% as.character %>% as.numeric %>% sum(na.rm=TRUE)\n",
    "io_in %>% print\n",
    "\n",
    "io_out = df$io_out %>% as.character %>% as.numeric %>% sum(na.rm=TRUE)\n",
    "io_out %>% print"
   ]
  },
  {
   "cell_type": "markdown",
   "metadata": {},
   "source": [
    "# sessionInfo"
   ]
  },
  {
   "cell_type": "code",
   "execution_count": 10,
   "metadata": {
    "ExecuteTime": {
     "end_time": "2019-11-12T07:43:30.832569Z",
     "start_time": "2019-11-08T16:01:12.706Z"
    }
   },
   "outputs": [
    {
     "data": {
      "text/plain": [
       "R version 3.4.1 (2017-06-30)\n",
       "Platform: x86_64-pc-linux-gnu (64-bit)\n",
       "Running under: Ubuntu 18.04.3 LTS\n",
       "\n",
       "Matrix products: default\n",
       "BLAS: /ebio/abt3_projects/software/miniconda3_gt4.4/envs/py3_physeq/lib/R/lib/libRblas.so\n",
       "LAPACK: /ebio/abt3_projects/software/miniconda3_gt4.4/envs/py3_physeq/lib/R/lib/libRlapack.so\n",
       "\n",
       "locale:\n",
       " [1] LC_CTYPE=en_US.UTF-8       LC_NUMERIC=C              \n",
       " [3] LC_TIME=en_US.UTF-8        LC_COLLATE=en_US.UTF-8    \n",
       " [5] LC_MONETARY=en_US.UTF-8    LC_MESSAGES=en_US.UTF-8   \n",
       " [7] LC_PAPER=en_US.UTF-8       LC_NAME=C                 \n",
       " [9] LC_ADDRESS=C               LC_TELEPHONE=C            \n",
       "[11] LC_MEASUREMENT=en_US.UTF-8 LC_IDENTIFICATION=C       \n",
       "\n",
       "attached base packages:\n",
       "[1] stats     graphics  grDevices utils     datasets  methods   base     \n",
       "\n",
       "other attached packages:\n",
       "[1] bindrcpp_0.2.2 ggplot2_3.0.0  tidyr_0.8.1    dplyr_0.7.6   \n",
       "\n",
       "loaded via a namespace (and not attached):\n",
       " [1] Rcpp_0.12.17     bindr_0.1.1      magrittr_1.5     munsell_0.5.0   \n",
       " [5] tidyselect_0.2.4 uuid_0.1-2       colorspace_1.3-2 R6_2.2.2        \n",
       " [9] rlang_0.2.1      plyr_1.8.4       stringr_1.3.1    tools_3.4.1     \n",
       "[13] grid_3.4.1       gtable_0.2.0     withr_2.1.1      htmltools_0.3.6 \n",
       "[17] lazyeval_0.2.1   digest_0.6.15    assertthat_0.2.0 tibble_1.4.2    \n",
       "[21] crayon_1.3.4     IRdisplay_0.4.4  purrr_0.2.4      repr_0.15.0     \n",
       "[25] base64enc_0.1-3  IRkernel_0.8.12  glue_1.3.0       evaluate_0.10.1 \n",
       "[29] pbdZMQ_0.3-2     stringi_1.2.3    compiler_3.4.1   pillar_1.2.2    \n",
       "[33] scales_0.5.0     jsonlite_1.5     pkgconfig_2.0.1 "
      ]
     },
     "metadata": {},
     "output_type": "display_data"
    }
   ],
   "source": [
    "sessionInfo()"
   ]
  },
  {
   "cell_type": "code",
   "execution_count": null,
   "metadata": {},
   "outputs": [],
   "source": []
  }
 ],
 "metadata": {
  "kernelspec": {
   "display_name": "R [conda env:py3_physeq]",
   "language": "R",
   "name": "conda-env-py3_physeq-r"
  },
  "language_info": {
   "codemirror_mode": "r",
   "file_extension": ".r",
   "mimetype": "text/x-r-source",
   "name": "R",
   "pygments_lexer": "r",
   "version": "3.4.1"
  },
  "notify_time": "30",
  "toc": {
   "base_numbering": 1,
   "nav_menu": {},
   "number_sections": true,
   "sideBar": true,
   "skip_h1_title": false,
   "title_cell": "Table of Contents",
   "title_sidebar": "Contents",
   "toc_cell": true,
   "toc_position": {},
   "toc_section_display": true,
   "toc_window_display": false
  }
 },
 "nbformat": 4,
 "nbformat_minor": 2
}
